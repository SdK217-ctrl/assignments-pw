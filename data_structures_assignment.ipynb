{
  "nbformat": 4,
  "nbformat_minor": 0,
  "metadata": {
    "colab": {
      "provenance": []
    },
    "kernelspec": {
      "name": "python3",
      "display_name": "Python 3"
    },
    "language_info": {
      "name": "python"
    }
  },
  "cells": [
    {
      "cell_type": "markdown",
      "source": [
        "1. What are data structures, and why are they important?\n",
        "    - It is a way of organizing and storing data so it can be used efficiently.\n",
        "2. Explain the difference between mutable and immutable data types with examples?\n",
        "    - Mutable data types - The data can be changed after creation.\n",
        "      Immutable data types - The data cannot be changed after creation.\n",
        "      \n",
        "      List is animmutable data structure, lst[1]=8 is possible\n",
        "      Tuple is an immutable data structure, tup(2)=6 is not possible.\n",
        "\n",
        "3. What are the main differences between lists and tuples in Python\n",
        "   - Lists: mutable, use [ ]; Tuples: immutable, use ( ).\n",
        "\n",
        "4. Describe how dictionaries store data\n",
        "    - As key-value pairs using a hash table for fast lookup.\n",
        "\n",
        "5. Why might you use a set instead of a list in Python\n",
        "  - To automatically remove duplicates and get faster lookups.\n",
        "\n",
        "6. What is a string in Python, and how is it different from a list\n",
        "   - String = sequence of characters, immutable; List = collection of any types, mutable.\n",
        "\n",
        "7. How do tuples ensure data integrity in Python\n",
        "→ Tuples are immutable, so their data cannot be changed once defined, which helps maintain data integrity.\n",
        "\n",
        "8. What is a hash table, and how does it relate to dictionaries in Python\n",
        "   - A hash table is a data structure that stores data using a key and a hash function. Python dictionaries are implemented using hash tables for fast key-based lookup.\n",
        "\n",
        "9. Can lists contain different data types in Python\n",
        "    - Yes, Python lists can contain different data types like integers, strings, floats, lists, and more.\n",
        "\n",
        "10. Explain why strings are immutable in Python\n",
        "    - Strings are immutable to make them hashable, improve memory efficiency, and prevent accidental changes to data.\n",
        "\n",
        "11. What advantages do dictionaries offer over lists for certain tasks\n",
        "  - Dictionaries provide fast key-based access, clearer data representation through key-value pairs, and are better for unordered data lookup.\n",
        "\n",
        "12. Describe a scenario where using a tuple would be preferable over a list\n",
        "    - When you want to store constant data that should not be modified.\n",
        "\n",
        "13. How do sets handle duplicate values in Python\n",
        "  - Sets automatically remove duplicate values and store only unique items.\n",
        "\n",
        "14. How does the “in” keyword work differently for lists and dictionaries\n",
        "  - In lists, in checks for presence of a value. In dictionaries, in checks for presence of a key.\n",
        "\n",
        "15. Can you modify the elements of a tuple? Explain why or why not\n",
        "  - No, you cannot modify elements of a tuple because tuples are immutable.\n",
        "\n",
        "16. What is a nested dictionary, and give an example of its use case\n",
        "  - A nested dictionary is a dictionary within another dictionary.\n",
        "Example: student = {\"name\": \"Rahul\", \"marks\": {\"math\": 90, \"science\": 85}}\n",
        "\n",
        "17. Describe the time complexity of accessing elements in a dictionary\n",
        "  - The average time complexity of accessing an element in a dictionary is O(1), due to hash-based lookup.\n",
        "\n",
        "18. In what situations are lists preferred over dictionaries\n",
        "    - Lists are preferred when order matters, duplicate values are needed, or when accessing data by index is required.\n",
        "\n",
        "19. Why are dictionaries considered unordered, and how does that affect data retrieval\n",
        "    - Dictionaries are considered unordered because items are stored based on hash order, not insertion order. Retrieval is done by key, not index.\n",
        "\n",
        "20. Explain the difference between a list and a dictionary in terms of data retrieval.\n",
        "  - A list retrieves data using an index (position), while a dictionary retrieves data using a key (label).\n",
        "\n"
      ],
      "metadata": {
        "id": "5Q8VjWFkE2ia"
      }
    },
    {
      "cell_type": "code",
      "execution_count": 1,
      "metadata": {
        "id": "WWrR7NAGDOrE",
        "colab": {
          "base_uri": "https://localhost:8080/"
        },
        "outputId": "b49a393b-8c45-434a-9000-7ac0a4481559"
      },
      "outputs": [
        {
          "output_type": "stream",
          "name": "stdout",
          "text": [
            "Soumyadeep\n"
          ]
        }
      ],
      "source": [
        "#1\n",
        "name = \"Soumyadeep\"\n",
        "print(name)\n"
      ]
    },
    {
      "cell_type": "code",
      "source": [
        "#2\n",
        "text = \"Hello World\"\n",
        "print(len(text))\n"
      ],
      "metadata": {
        "id": "e90-su9JEzXU",
        "colab": {
          "base_uri": "https://localhost:8080/"
        },
        "outputId": "bb6166c0-26f1-47c9-b6ab-3626eb70434c"
      },
      "execution_count": 2,
      "outputs": [
        {
          "output_type": "stream",
          "name": "stdout",
          "text": [
            "11\n"
          ]
        }
      ]
    },
    {
      "cell_type": "code",
      "source": [
        "#3\n",
        "s = \"Python Programming\"\n",
        "print(s[:3])\n"
      ],
      "metadata": {
        "colab": {
          "base_uri": "https://localhost:8080/"
        },
        "id": "Beiy26iYYkMa",
        "outputId": "ebfb1f20-d9eb-4009-a631-f1e650205d70"
      },
      "execution_count": 3,
      "outputs": [
        {
          "output_type": "stream",
          "name": "stdout",
          "text": [
            "Pyt\n"
          ]
        }
      ]
    },
    {
      "cell_type": "code",
      "source": [
        "#4\n",
        "word = \"hello\"\n",
        "print(word.upper())\n"
      ],
      "metadata": {
        "colab": {
          "base_uri": "https://localhost:8080/"
        },
        "id": "uMToDlysYoqK",
        "outputId": "ba473528-20e0-4493-bcb5-88b62f2f5122"
      },
      "execution_count": 4,
      "outputs": [
        {
          "output_type": "stream",
          "name": "stdout",
          "text": [
            "HELLO\n"
          ]
        }
      ]
    },
    {
      "cell_type": "code",
      "source": [
        "#5\n",
        "sentence = \"I like apple\"\n",
        "print(sentence.replace(\"apple\", \"orange\"))\n",
        "\n"
      ],
      "metadata": {
        "colab": {
          "base_uri": "https://localhost:8080/"
        },
        "id": "s7qtxwRkY3C0",
        "outputId": "c5f95c4d-98cd-4ca0-d82e-bea1ded740b5"
      },
      "execution_count": 5,
      "outputs": [
        {
          "output_type": "stream",
          "name": "stdout",
          "text": [
            "I like orange\n"
          ]
        }
      ]
    },
    {
      "cell_type": "code",
      "source": [
        "#6\n",
        "numbers = [1, 2, 3, 4, 5]\n",
        "print(numbers)\n"
      ],
      "metadata": {
        "colab": {
          "base_uri": "https://localhost:8080/"
        },
        "id": "h9fwT6pZY59p",
        "outputId": "14412113-d9ef-496b-9d49-c5b6d265ff9b"
      },
      "execution_count": 6,
      "outputs": [
        {
          "output_type": "stream",
          "name": "stdout",
          "text": [
            "[1, 2, 3, 4, 5]\n"
          ]
        }
      ]
    },
    {
      "cell_type": "code",
      "source": [
        "#7\n",
        "lst = [1, 2, 3, 4]\n",
        "lst.append(10)\n",
        "print(lst)"
      ],
      "metadata": {
        "colab": {
          "base_uri": "https://localhost:8080/"
        },
        "id": "Ha3Gta0uZIar",
        "outputId": "f040643d-3b99-487f-87fa-ec6016853cc4"
      },
      "execution_count": 10,
      "outputs": [
        {
          "output_type": "stream",
          "name": "stdout",
          "text": [
            "[1, 2, 3, 4, 10]\n"
          ]
        }
      ]
    },
    {
      "cell_type": "code",
      "source": [
        "#8\n",
        "lst = [1, 2, 3, 4, 5]\n",
        "lst.remove(3)\n",
        "print(lst)\n"
      ],
      "metadata": {
        "colab": {
          "base_uri": "https://localhost:8080/"
        },
        "id": "M_LV0cpAY_uA",
        "outputId": "fd793789-2919-4467-bd59-b49537d5b0cd"
      },
      "execution_count": 11,
      "outputs": [
        {
          "output_type": "stream",
          "name": "stdout",
          "text": [
            "[1, 2, 4, 5]\n"
          ]
        }
      ]
    },
    {
      "cell_type": "code",
      "source": [
        "#9\n",
        "letters = ['a', 'b', 'c', 'd']\n",
        "print(letters[1])\n"
      ],
      "metadata": {
        "colab": {
          "base_uri": "https://localhost:8080/"
        },
        "id": "rz_pOTbNZBpk",
        "outputId": "30ded33a-d71c-46ec-a29d-673be70f95b2"
      },
      "execution_count": 13,
      "outputs": [
        {
          "output_type": "stream",
          "name": "stdout",
          "text": [
            "b\n"
          ]
        }
      ]
    },
    {
      "cell_type": "code",
      "source": [
        "#10\n",
        "lst = [10, 20, 30, 40, 50]\n",
        "lst.reverse()\n",
        "print(lst)\n"
      ],
      "metadata": {
        "colab": {
          "base_uri": "https://localhost:8080/"
        },
        "id": "iy6jdN5xZT06",
        "outputId": "e9e7ffc0-e095-4339-a23d-b2dd8f790ed6"
      },
      "execution_count": 15,
      "outputs": [
        {
          "output_type": "stream",
          "name": "stdout",
          "text": [
            "[50, 40, 30, 20, 10]\n"
          ]
        }
      ]
    },
    {
      "cell_type": "code",
      "source": [
        "#11\n",
        "tup = (100, 200, 300)\n",
        "print(tup)"
      ],
      "metadata": {
        "colab": {
          "base_uri": "https://localhost:8080/"
        },
        "id": "3jKdM7MCZZyp",
        "outputId": "cbf1d5fe-c1c4-4537-ee68-6acfd2d2be36"
      },
      "execution_count": 26,
      "outputs": [
        {
          "output_type": "stream",
          "name": "stdout",
          "text": [
            "(100, 200, 300)\n"
          ]
        }
      ]
    },
    {
      "cell_type": "code",
      "source": [
        "#12\n",
        "colors = ('red', 'green', 'blue', 'yellow')\n",
        "print(colors[-2])\n"
      ],
      "metadata": {
        "colab": {
          "base_uri": "https://localhost:8080/"
        },
        "id": "Z9TKt-H5ZdLB",
        "outputId": "aef7367a-9626-4f8e-a896-2b1a37fbf0ce"
      },
      "execution_count": 17,
      "outputs": [
        {
          "output_type": "stream",
          "name": "stdout",
          "text": [
            "blue\n"
          ]
        }
      ]
    },
    {
      "cell_type": "code",
      "source": [
        "#13\n",
        "tup = (10, 20, 5, 15)\n",
        "print(min(tup))\n"
      ],
      "metadata": {
        "colab": {
          "base_uri": "https://localhost:8080/"
        },
        "id": "18IgGVmSZmfR",
        "outputId": "a907c0e0-5bc2-43f5-9da9-7027dba8661c"
      },
      "execution_count": 18,
      "outputs": [
        {
          "output_type": "stream",
          "name": "stdout",
          "text": [
            "5\n"
          ]
        }
      ]
    },
    {
      "cell_type": "code",
      "source": [
        "#14\n",
        "animals = ('dog', 'cat', 'rabbit')\n",
        "print(animals.index(\"cat\"))\n"
      ],
      "metadata": {
        "colab": {
          "base_uri": "https://localhost:8080/"
        },
        "id": "dAczJrp7ZtBK",
        "outputId": "878ab5f4-2264-4699-c0fc-ca53af633217"
      },
      "execution_count": 20,
      "outputs": [
        {
          "output_type": "stream",
          "name": "stdout",
          "text": [
            "1\n"
          ]
        }
      ]
    },
    {
      "cell_type": "code",
      "source": [
        "#15\n",
        "fruits = (\"apple\", \"banana\", \"kiwi\")\n",
        "print(\"kiwi\" in fruits)\n"
      ],
      "metadata": {
        "colab": {
          "base_uri": "https://localhost:8080/"
        },
        "id": "eZAtfNbrZxSk",
        "outputId": "65f5ed9b-b797-4d19-9d4b-c798904032ec"
      },
      "execution_count": 21,
      "outputs": [
        {
          "output_type": "stream",
          "name": "stdout",
          "text": [
            "True\n"
          ]
        }
      ]
    },
    {
      "cell_type": "code",
      "source": [
        "#16\n",
        "s = {'a', 'b', 'c'}\n",
        "print(s)\n"
      ],
      "metadata": {
        "colab": {
          "base_uri": "https://localhost:8080/"
        },
        "id": "s0rvIljmZ3SI",
        "outputId": "cd57e8cb-5648-4f89-b5d0-1ee392a26240"
      },
      "execution_count": 23,
      "outputs": [
        {
          "output_type": "stream",
          "name": "stdout",
          "text": [
            "{'b', 'c', 'a'}\n"
          ]
        }
      ]
    },
    {
      "cell_type": "code",
      "source": [
        "#17\n",
        "s = {1, 2, 3, 4, 5}\n",
        "s.clear()\n",
        "print(s)"
      ],
      "metadata": {
        "colab": {
          "base_uri": "https://localhost:8080/"
        },
        "id": "m2klZ51nZ7VH",
        "outputId": "28ee0b71-ece9-45df-fe85-c01a8f883fb6"
      },
      "execution_count": 27,
      "outputs": [
        {
          "output_type": "stream",
          "name": "stdout",
          "text": [
            "set()\n"
          ]
        }
      ]
    },
    {
      "cell_type": "code",
      "source": [
        "#18\n",
        "s = {1, 2, 3, 4}\n",
        "s.remove(4)\n",
        "print(s)"
      ],
      "metadata": {
        "colab": {
          "base_uri": "https://localhost:8080/"
        },
        "id": "-o4ZNqtEaF8R",
        "outputId": "8d3fb19b-55fb-45cf-9d22-a05635e6eaa2"
      },
      "execution_count": 28,
      "outputs": [
        {
          "output_type": "stream",
          "name": "stdout",
          "text": [
            "{1, 2, 3}\n"
          ]
        }
      ]
    },
    {
      "cell_type": "code",
      "source": [
        "#19\n",
        "a = {1, 2, 3}\n",
        "b = {3, 4, 5}\n",
        "print(a.union(b))\n"
      ],
      "metadata": {
        "colab": {
          "base_uri": "https://localhost:8080/"
        },
        "id": "QfbNWWa7aI4_",
        "outputId": "6f7d08e3-c9c0-4695-9c81-2b42e5e16df8"
      },
      "execution_count": 29,
      "outputs": [
        {
          "output_type": "stream",
          "name": "stdout",
          "text": [
            "{1, 2, 3, 4, 5}\n"
          ]
        }
      ]
    },
    {
      "cell_type": "code",
      "source": [
        "#20\n",
        "a = {1, 2, 3}\n",
        "b = {2, 3, 4}\n",
        "print(a.intersection(b))\n"
      ],
      "metadata": {
        "colab": {
          "base_uri": "https://localhost:8080/"
        },
        "id": "uIfmWsLFaugg",
        "outputId": "da47d865-8a46-496b-e69a-0cd4b549446d"
      },
      "execution_count": 30,
      "outputs": [
        {
          "output_type": "stream",
          "name": "stdout",
          "text": [
            "{2, 3}\n"
          ]
        }
      ]
    },
    {
      "cell_type": "code",
      "source": [
        "#21\n",
        "person = {\"name\": \"John\", \"age\": 25, \"city\": \"New York\"}\n",
        "print(person)\n"
      ],
      "metadata": {
        "colab": {
          "base_uri": "https://localhost:8080/"
        },
        "id": "24YiRX00ayn9",
        "outputId": "4eb772ca-ad4e-4de3-f5cd-1f31bfb6a561"
      },
      "execution_count": 31,
      "outputs": [
        {
          "output_type": "stream",
          "name": "stdout",
          "text": [
            "{'name': 'John', 'age': 25, 'city': 'New York'}\n"
          ]
        }
      ]
    },
    {
      "cell_type": "code",
      "source": [
        "#22\n",
        "person = {'name': 'John', 'age': 25}\n",
        "person['country'] = \"USA\"\n",
        "print(person)\n"
      ],
      "metadata": {
        "colab": {
          "base_uri": "https://localhost:8080/"
        },
        "id": "OP6B6b3ea5lQ",
        "outputId": "6799716c-d67d-43da-c9ef-37cf316cbc59"
      },
      "execution_count": 32,
      "outputs": [
        {
          "output_type": "stream",
          "name": "stdout",
          "text": [
            "{'name': 'John', 'age': 25, 'country': 'USA'}\n"
          ]
        }
      ]
    },
    {
      "cell_type": "code",
      "source": [
        "#23\n",
        "person = {'name': 'Alice', 'age': 30}\n",
        "print(person['name'])\n"
      ],
      "metadata": {
        "colab": {
          "base_uri": "https://localhost:8080/"
        },
        "id": "DITk_7P4a_rH",
        "outputId": "995a4d71-746e-4d39-bd94-1b04ccaace33"
      },
      "execution_count": 33,
      "outputs": [
        {
          "output_type": "stream",
          "name": "stdout",
          "text": [
            "Alice\n"
          ]
        }
      ]
    },
    {
      "cell_type": "code",
      "source": [
        "#24\n",
        "person = {'name': 'Bob', 'age': 22, 'city': 'New York'}\n",
        "person.pop('age')\n",
        "print(person)\n"
      ],
      "metadata": {
        "colab": {
          "base_uri": "https://localhost:8080/"
        },
        "id": "oYnpmly8bE30",
        "outputId": "33481bb5-3300-447d-b965-333724e91d68"
      },
      "execution_count": 34,
      "outputs": [
        {
          "output_type": "stream",
          "name": "stdout",
          "text": [
            "{'name': 'Bob', 'city': 'New York'}\n"
          ]
        }
      ]
    },
    {
      "cell_type": "code",
      "source": [
        "#25\n",
        "person = {'name': 'Alice', 'city': 'Paris'}\n",
        "print('city' in person)\n"
      ],
      "metadata": {
        "colab": {
          "base_uri": "https://localhost:8080/"
        },
        "id": "b3ZCIRSSbH5J",
        "outputId": "f035fb8d-ea15-4c1d-df72-687b4fa598ed"
      },
      "execution_count": 35,
      "outputs": [
        {
          "output_type": "stream",
          "name": "stdout",
          "text": [
            "True\n"
          ]
        }
      ]
    },
    {
      "cell_type": "code",
      "source": [
        "#26\n",
        "lst = [1, 2, 3]\n",
        "tup = (4, 5, 6)\n",
        "dct = {'a': 1, 'b': 2}\n",
        "print(lst, tup, dct)\n"
      ],
      "metadata": {
        "colab": {
          "base_uri": "https://localhost:8080/"
        },
        "id": "3OQNFPx0bZIV",
        "outputId": "f82bb639-d7df-48e7-9c23-e9da9c23702e"
      },
      "execution_count": 36,
      "outputs": [
        {
          "output_type": "stream",
          "name": "stdout",
          "text": [
            "[1, 2, 3] (4, 5, 6) {'a': 1, 'b': 2}\n"
          ]
        }
      ]
    },
    {
      "cell_type": "code",
      "source": [
        "#27\n",
        "import random\n",
        "nums = random.sample(range(1, 101), 5)\n",
        "nums.sort()\n",
        "print(nums)\n"
      ],
      "metadata": {
        "colab": {
          "base_uri": "https://localhost:8080/"
        },
        "id": "H5rb4hA-bdNQ",
        "outputId": "1ace3672-013a-4971-948b-df20f2e4f47f"
      },
      "execution_count": 38,
      "outputs": [
        {
          "output_type": "stream",
          "name": "stdout",
          "text": [
            "[2, 32, 74, 79, 93]\n"
          ]
        }
      ]
    },
    {
      "cell_type": "code",
      "source": [
        "#28\n",
        "words = [\"apple\", \"banana\", \"cherry\", \"date\", \"fig\"]\n",
        "print(words[3])\n"
      ],
      "metadata": {
        "colab": {
          "base_uri": "https://localhost:8080/"
        },
        "id": "m53EamIIbf-N",
        "outputId": "daf51d60-4b93-42a8-db86-3d4344e6f7d7"
      },
      "execution_count": 39,
      "outputs": [
        {
          "output_type": "stream",
          "name": "stdout",
          "text": [
            "date\n"
          ]
        }
      ]
    },
    {
      "cell_type": "code",
      "source": [
        "#29\n",
        "d1 = {'a': 1, 'b': 2}\n",
        "d2 = {'c': 3, 'd': 4}\n",
        "d1.update(d2)\n",
        "print(d1)\n"
      ],
      "metadata": {
        "colab": {
          "base_uri": "https://localhost:8080/"
        },
        "id": "S8K9ptcLbp37",
        "outputId": "599d1ba0-c23a-4b37-b0ae-f7c6330e76a9"
      },
      "execution_count": 40,
      "outputs": [
        {
          "output_type": "stream",
          "name": "stdout",
          "text": [
            "{'a': 1, 'b': 2, 'c': 3, 'd': 4}\n"
          ]
        }
      ]
    },
    {
      "cell_type": "code",
      "source": [
        "#30\n",
        "words = [\"apple\", \"banana\", \"apple\"]\n",
        "word_set = set(words)\n",
        "print(word_set)\n"
      ],
      "metadata": {
        "colab": {
          "base_uri": "https://localhost:8080/"
        },
        "id": "b0Xbqpf9btKt",
        "outputId": "91718e2f-b568-4ffc-b24b-4eaf35e9c160"
      },
      "execution_count": 41,
      "outputs": [
        {
          "output_type": "stream",
          "name": "stdout",
          "text": [
            "{'banana', 'apple'}\n"
          ]
        }
      ]
    }
  ]
}