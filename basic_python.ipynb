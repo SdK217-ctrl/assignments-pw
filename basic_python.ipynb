{
  "nbformat": 4,
  "nbformat_minor": 0,
  "metadata": {
    "colab": {
      "provenance": []
    },
    "kernelspec": {
      "name": "python3",
      "display_name": "Python 3"
    },
    "language_info": {
      "name": "python"
    }
  },
  "cells": [
    {
      "cell_type": "markdown",
      "source": [
        "1. What is Python, and why is it popular?\n",
        "  - It is a high level programming language.\n",
        "    It is versatile, library rich, has simple syntax which makes it popular.\n",
        "\n",
        "2. What is an interpreter in Python ?\n",
        "    - It translates and executes a program line by line.\n",
        "\n",
        "3. What are pre-defined keywords in Python ?\n",
        "    - They are the words that are already defined in the python library which cannot be reused as variables' names.\n",
        "\n",
        "4. Can keywords be used as variable names ?\n",
        "    - No, eywords can otbeused as variable names.\n",
        "\n",
        "5. What is mutability in Python ?\n",
        "    - The ability the change the contents of a data.\n",
        "\n",
        "6. Why are lists mutable, but tuples are immutable?\n",
        "    - List is designed to work with data which can be changed overtime.\n",
        "    Tuples are made safer for storing fixed data.\n",
        "\n",
        "7.  What is the difference between “==” and “is” operators in Python ?\n",
        "    - \"==\" checks if two values are same or not.\n",
        "    \"is\" checks if two valiables points to the same object in the memory.\n",
        "\n",
        "8. What are logical operators in Python ?\n",
        "    - they are the operators to perform logical operations in a program.\n",
        "\n",
        "9. What is type casting in Python ?\n",
        "    -Type casting means changing the data type of a data.\n",
        "\n",
        "10. What is the difference between implicit and explicit type casting ?\n",
        "    - Implicit type casting takes place automatically generally while assigning or initializing data in variables.\n",
        "    Explicit type casting is done manually by the programmer.\n",
        "    \n",
        "11. What is the purpose of conditional statements in Python ?\n",
        "    - To process data or give output when a perticular criterion is fulfilled.\n",
        "\n",
        "12. How does the elif statement work.\n",
        "    - It runs the required process on fulfilling the desired condition in the elif statement after if statement is not satisfied.\n",
        "\n",
        "13. What is the difference between for and while loops ?\n",
        "    - for loop contains specified conditions (range, start, iteration gap) within the statement itself.\n",
        "    while loop conatain the condition and the loop is continued until the condion is satisfied and the iteration is mentioned inside the code block.\n",
        "\n",
        "14. Describe a scenario where a while loop is more suitable than a for loop.\n",
        "    - One of the best case is in case of linked list or tree traversals in data structures to find a specific node with a certain value.\n",
        "\n"
      ],
      "metadata": {
        "id": "Jzed7sDBfdpN"
      }
    },
    {
      "cell_type": "code",
      "execution_count": null,
      "metadata": {
        "id": "goNRk5XWThK0",
        "colab": {
          "base_uri": "https://localhost:8080/"
        },
        "outputId": "7d71582e-f892-468b-8e3b-db707c469183"
      },
      "outputs": [
        {
          "output_type": "stream",
          "name": "stdout",
          "text": [
            "Hello, World!\n"
          ]
        }
      ],
      "source": [
        "#PQ1 Write a Python program to print \"Hello, World!y\n",
        "\n",
        "print(\"Hello, World!\")"
      ]
    },
    {
      "cell_type": "code",
      "source": [
        "#PQ2 Write a Python program that displays your name and age8\n",
        "\n",
        "name = \"Soumyadeep Kamila\"\n",
        "age = 20\n",
        "print(\"My name is \"+name+\" and age is \"+str(age))"
      ],
      "metadata": {
        "colab": {
          "base_uri": "https://localhost:8080/"
        },
        "id": "6C8yoSHYPWD5",
        "outputId": "037017be-48d7-4071-c746-bab17cf6d846"
      },
      "execution_count": 1,
      "outputs": [
        {
          "output_type": "stream",
          "name": "stdout",
          "text": [
            "My name is Soumyadeep Kamila and age is 20\n"
          ]
        }
      ]
    },
    {
      "cell_type": "code",
      "source": [
        "#PQ3\n",
        "#Write code to print all the pre-defined keywords in Python using the keyword library\n",
        "\n",
        "import keyword\n",
        "print(\"Python Keywords:\")\n",
        "print(keyword.kwlist)\n"
      ],
      "metadata": {
        "id": "Fv-US7FXg7bp",
        "colab": {
          "base_uri": "https://localhost:8080/"
        },
        "outputId": "274d5fa3-f451-4f83-b19a-0e04e7c9cdeb"
      },
      "execution_count": 2,
      "outputs": [
        {
          "output_type": "stream",
          "name": "stdout",
          "text": [
            "Python Keywords:\n",
            "['False', 'None', 'True', 'and', 'as', 'assert', 'async', 'await', 'break', 'class', 'continue', 'def', 'del', 'elif', 'else', 'except', 'finally', 'for', 'from', 'global', 'if', 'import', 'in', 'is', 'lambda', 'nonlocal', 'not', 'or', 'pass', 'raise', 'return', 'try', 'while', 'with', 'yield']\n"
          ]
        }
      ]
    },
    {
      "cell_type": "code",
      "source": [
        "# Write a program that checks if a given word is a Python keyword.\n",
        "\n",
        "import keyword\n",
        "word=input(\"Enter a word: \")\n",
        "if keyword.iskeyword(word):\n",
        "  print(word+\" is a keyword\")\n",
        "else:\n",
        "  print(word+\" is not a keyword\")"
      ],
      "metadata": {
        "colab": {
          "base_uri": "https://localhost:8080/"
        },
        "id": "jmcHSn_SKaXg",
        "outputId": "b4f88d9e-28ba-4c0e-be02-c7723d02d2d9"
      },
      "execution_count": 7,
      "outputs": [
        {
          "output_type": "stream",
          "name": "stdout",
          "text": [
            "Enter a word: string\n",
            "string is not a keyword\n"
          ]
        }
      ]
    },
    {
      "cell_type": "code",
      "source": [
        "#Create a list and tuple in Python, and demonstrate how attempting to change an element works differently for each.\n",
        "list1=[1,2,3,4,5,6,7,8,9]\n",
        "tuple1=(1,2,3)\n",
        "list1[1]=100\n",
        "tuple1=(1,2,3)"
      ],
      "metadata": {
        "id": "d63ZyF3ES9dh"
      },
      "execution_count": null,
      "outputs": []
    },
    {
      "cell_type": "code",
      "source": [
        "# Write a function to demonstrate the behavior of mutable and immutable arguments.\n",
        "def mutate(num , list):\n",
        "  num+=100\n",
        "  list.append(99)\n",
        "  return num, list\n",
        "\n",
        "n=7\n",
        "l= [1,2,3,4,5]\n",
        "new_n, new_l = mutate(n,l)\n",
        "print(\"Original number = \"+str(n)) #original remains same\n",
        "print(\"New number = \"+str(new_n))  #new number\n",
        "print(\"Original list = \"+str(l))   #original list is changed\n",
        "print(\"New list = \"+str(new_l))    #new list"
      ],
      "metadata": {
        "colab": {
          "base_uri": "https://localhost:8080/"
        },
        "id": "uJ5tACMHMh37",
        "outputId": "743398b5-0295-4524-fd16-531a50ca3748"
      },
      "execution_count": 9,
      "outputs": [
        {
          "output_type": "stream",
          "name": "stdout",
          "text": [
            "Original number = 7\n",
            "New number = 107\n",
            "Original list = [1, 2, 3, 4, 5, 99]\n",
            "New list = [1, 2, 3, 4, 5, 99]\n"
          ]
        }
      ]
    },
    {
      "cell_type": "code",
      "source": [
        "# Write a program that performs basic arithmetic operations on two user-input numbers.\n",
        "a = float(input(\"Enter first number: \"))\n",
        "b = float(input(\"Enter second number: \"))\n",
        "\n",
        "print(\"Addition:\", a + b)\n",
        "print(\"Subtraction:\", a - b)\n",
        "print(\"Multiplication:\", a * b)\n",
        "print(\"Division:\", a / b if b != 0 else \"Cannot divide by zero\")\n"
      ],
      "metadata": {
        "colab": {
          "base_uri": "https://localhost:8080/"
        },
        "id": "KNY0-OgLPzZz",
        "outputId": "45c5e4c7-d337-4ea8-8de2-a40e83f27f87"
      },
      "execution_count": 10,
      "outputs": [
        {
          "output_type": "stream",
          "name": "stdout",
          "text": [
            "Enter first number: 4\n",
            "Enter second number: 7\n",
            "Addition: 11.0\n",
            "Subtraction: -3.0\n",
            "Multiplication: 28.0\n",
            "Division: 0.5714285714285714\n"
          ]
        }
      ]
    },
    {
      "cell_type": "code",
      "source": [
        "# Write a program to demonstrate the use of logical operators.\n",
        "x = int(input(\"Enter a number: \"))\n",
        "print(\"x > 0 and x < 100:\", x > 0 and x < 100)\n",
        "print(\"x < 0 or x > 100:\", x < 0 or x > 100)\n",
        "print(\"not(x == 0):\", not (x == 0))"
      ],
      "metadata": {
        "colab": {
          "base_uri": "https://localhost:8080/"
        },
        "id": "Eg5U--OPXCtR",
        "outputId": "e025cd7c-1f77-4b74-b5b9-65d467bb8702"
      },
      "execution_count": 1,
      "outputs": [
        {
          "output_type": "stream",
          "name": "stdout",
          "text": [
            "Enter a number: 5\n",
            "x > 0 and x < 100: True\n",
            "x < 0 or x > 100: False\n",
            "not(x == 0): True\n"
          ]
        }
      ]
    },
    {
      "cell_type": "code",
      "source": [
        "# Write a Python program to convert user input from string to integer, float, and boolean types.\n",
        "s = input(\"Enter something: \")\n",
        "\n",
        "try:\n",
        "    print(\"As int:\", int(s))\n",
        "except:\n",
        "    print(\"Cannot convert to int\")\n",
        "\n",
        "try:\n",
        "    print(\"As float:\", float(s))\n",
        "except:\n",
        "    print(\"Cannot convert to float\")\n",
        "\n",
        "print(\"As bool:\", bool(s))  # Non-empty string is True\n"
      ],
      "metadata": {
        "colab": {
          "base_uri": "https://localhost:8080/"
        },
        "id": "xsjA5w3No_nS",
        "outputId": "565e2694-e597-4b5a-c05a-9fd0d41708e9"
      },
      "execution_count": 2,
      "outputs": [
        {
          "output_type": "stream",
          "name": "stdout",
          "text": [
            "Enter something: 66\n",
            "As int: 66\n",
            "As float: 66.0\n",
            "As bool: True\n"
          ]
        }
      ]
    },
    {
      "cell_type": "code",
      "source": [
        "# 10. Write code to demonstrate type casting with list elements.\n",
        "\n",
        "str_list = [\"10\", \"20\", \"30\"]\n",
        "int_list = [int(x) for x in str_list]\n",
        "print(\"Original:\", str_list)\n",
        "print(\"Converted to int:\", int_list)"
      ],
      "metadata": {
        "colab": {
          "base_uri": "https://localhost:8080/"
        },
        "id": "fdClPLNrqksD",
        "outputId": "1a3bf795-aca3-44b9-d10e-3b0b105538b6"
      },
      "execution_count": 3,
      "outputs": [
        {
          "output_type": "stream",
          "name": "stdout",
          "text": [
            "Original: ['10', '20', '30']\n",
            "Converted to int: [10, 20, 30]\n"
          ]
        }
      ]
    },
    {
      "cell_type": "code",
      "source": [
        "#11. Write a program that checks if a number is positive, negative, or zero.\n",
        "\n",
        "num = float(input(\"Enter a number: \"))\n",
        "\n",
        "if num > 0:\n",
        "    print(\"Positive\")\n",
        "elif num < 0:\n",
        "    print(\"Negative\")\n",
        "else:\n",
        "    print(\"Zero\")\n"
      ],
      "metadata": {
        "colab": {
          "base_uri": "https://localhost:8080/"
        },
        "id": "M6brp0lFrBk2",
        "outputId": "68384288-d8b2-4603-d8f5-7d28b5463f13"
      },
      "execution_count": 4,
      "outputs": [
        {
          "output_type": "stream",
          "name": "stdout",
          "text": [
            "Enter a number: -6\n",
            "Negative\n"
          ]
        }
      ]
    },
    {
      "cell_type": "code",
      "source": [
        "# Write a for loop to print numbers from 1 to 10.\n",
        "\n",
        "for i in range(1, 11):\n",
        "    print(i, end=' ')"
      ],
      "metadata": {
        "colab": {
          "base_uri": "https://localhost:8080/"
        },
        "id": "8HWHDiXPrNTK",
        "outputId": "6549e3e9-7bf9-4684-ee37-d54d71765fb1"
      },
      "execution_count": 5,
      "outputs": [
        {
          "output_type": "stream",
          "name": "stdout",
          "text": [
            "1 2 3 4 5 6 7 8 9 10 "
          ]
        }
      ]
    },
    {
      "cell_type": "code",
      "source": [
        "# 13. Write a Python program to find the sum of all even numbers between 1 and 50.\n",
        "\n",
        "total = 0\n",
        "for i in range(2, 51, 2):\n",
        "    total += i\n",
        "print(\"Sum of even numbers from 1 to 50 is:\", total)"
      ],
      "metadata": {
        "colab": {
          "base_uri": "https://localhost:8080/"
        },
        "id": "hTt_kdn2rYpJ",
        "outputId": "e7f53122-d631-4381-966f-263b5445ab13"
      },
      "execution_count": 7,
      "outputs": [
        {
          "output_type": "stream",
          "name": "stdout",
          "text": [
            "Sum of even numbers from 1 to 50 is: 650\n"
          ]
        }
      ]
    },
    {
      "cell_type": "code",
      "source": [
        "# 14. Write a program to reverse a string using a while loop.\n",
        "text = input(\"Enter a string: \")\n",
        "rev = \"\"\n",
        "i = len(text) - 1\n",
        "\n",
        "while i >= 0:\n",
        "    rev += text[i]\n",
        "    i -= 1\n",
        "\n",
        "print(\"Reversed string:\", rev)"
      ],
      "metadata": {
        "colab": {
          "base_uri": "https://localhost:8080/"
        },
        "id": "OUQla8fOrlai",
        "outputId": "a128e04d-62df-4fae-ce39-5ea5e0d26d1b"
      },
      "execution_count": 8,
      "outputs": [
        {
          "output_type": "stream",
          "name": "stdout",
          "text": [
            "Enter a string: i am learning python\n",
            "Reversed string: nohtyp gninrael ma i\n"
          ]
        }
      ]
    },
    {
      "cell_type": "code",
      "source": [
        "#15. Write a Python program to calculate the factorial of a number provided by the user using a while loop.\n",
        "\n",
        "num = int(input(\"Enter a number: \"))\n",
        "fact = 1\n",
        "i = 1\n",
        "\n",
        "while i <= num:\n",
        "    fact *= i\n",
        "    i += 1\n",
        "\n",
        "print(f\"Factorial of {num} is {fact}\")\n"
      ],
      "metadata": {
        "colab": {
          "base_uri": "https://localhost:8080/"
        },
        "id": "ylQCZjLYsINc",
        "outputId": "c8f2489f-cd2b-435b-ac45-3d2c7be27c8f"
      },
      "execution_count": 9,
      "outputs": [
        {
          "output_type": "stream",
          "name": "stdout",
          "text": [
            "Enter a number: 55\n",
            "Factorial of 55 is 12696403353658275925965100847566516959580321051449436762275840000000000000\n"
          ]
        }
      ]
    },
    {
      "cell_type": "code",
      "source": [],
      "metadata": {
        "id": "hVshidQesZLp"
      },
      "execution_count": null,
      "outputs": []
    }
  ]
}